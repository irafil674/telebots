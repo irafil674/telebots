{
 "cells": [
  {
   "cell_type": "code",
   "execution_count": null,
   "id": "8dcfd3b5",
   "metadata": {},
   "outputs": [],
   "source": [
    "# pip install pyTelegramBotAPI"
   ]
  },
  {
   "cell_type": "code",
   "execution_count": null,
   "id": "173f5650",
   "metadata": {},
   "outputs": [],
   "source": [
    "import telebot\n",
    "from telebot import types\n",
    "from telebot.types import WebAppInfo\n",
    "from config import TOKEN, WEBURL\n",
    "from models import Field\n",
    "\n",
    "bot = telebot.TeleBot(TOKEN)\n",
    "game_mode = None\n",
    "fields = {}\n",
    "\n",
    "\n",
    "def make_keyboard_webapp(weburl, name):\n",
    "    '''\n",
    "    создаёт клавиатуру с web-кнопкой с именем name по ссылке weburl\n",
    "    '''\n",
    "    keyboard = types.ReplyKeyboardMarkup(row_width=1)\n",
    "    button = types.KeyboardButton(text=name, web_app=WebAppInfo(weburl))\n",
    "    keyboard.add(button)\n",
    "    return keyboard\n",
    "\n",
    "def start_game():\n",
    "    pass\n",
    "\n",
    "@bot.message_handler(commands=['start'])\n",
    "def start_message(message):\n",
    "    bot.send_message(message.chat.id, \"Привет, это морской бой на троих! Чтобы начать игру, напиши \\\\newgame, чтобы узнать бюольше \\\\help.\")\n",
    "\n",
    "\n",
    "@bot.message_handler(commands=['help'])\n",
    "def help_message(message):\n",
    "    bot.send_message(message.chat.id, \"Чтобы начать новую игру, напишите \\\\newgame\\nчтобы узнрать правила \\\\rules\")\n",
    "\n",
    "\n",
    "@bot.message_handler(content_types=['web_app_data'])\n",
    "def web_app(webAppMes):\n",
    "    #создаём поле из того, что получили \n",
    "    field = webAppMes.web_app_data.data\n",
    "    fields[webAppMes.chat.id] = Field(field)\n",
    "    #говорим, что данные приняты и очищаем клавиатуру\n",
    "    bot.send_message(webAppMes.chat.id, \"данные приняты, пасиб\", reply_markup=types.ReplyKeyboardRemove())\n",
    "    #если получили третье поле, то пора начинать игру\n",
    "    if(len(fields) == 3):\n",
    "        game_mode = \"continue\"\n",
    "        start_game()\n",
    "    \n",
    "@bot.message_handler(commands=['newgame'])\n",
    "def new_game_func(message):\n",
    "    bot.send_message(message.chat.id, \"Начинаем игру, выберете себе расстановку\", reply_markup = make_keyboard_webapp(WEBURL, \"расстановка кораблей\"))\n",
    "    \n",
    "\n",
    "@bot.message_handler(content_types=['text'])\n",
    "def text_message(message):\n",
    "    #расчитывается, что тут будут обработки состояния игры и сообствено текста, \n",
    "    #ну типа если поиск людей, то проверка правильного пароля, \n",
    "    # если игра в процессе, то кого и как бьют и какой результат и тд\n",
    "    pass\n",
    "bot.infinity_polling(none_stop=True)"
   ]
  }
 ],
 "metadata": {
  "language_info": {
   "name": "python"
  }
 },
 "nbformat": 4,
 "nbformat_minor": 5
}
